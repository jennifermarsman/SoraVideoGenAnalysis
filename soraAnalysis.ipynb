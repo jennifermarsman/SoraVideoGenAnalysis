{
 "cells": [
  {
   "cell_type": "code",
   "execution_count": null,
   "id": "8c1a92a3-e1fd-45ca-bb8b-b430c209b126",
   "metadata": {},
   "outputs": [],
   "source": [
    "# Setup\n",
    "import os\n",
    "from openai import AzureOpenAI, OpenAI\n",
    "from azure.identity import DefaultAzureCredential, get_bearer_token_provider\n",
    "\n",
    "# Load env variables\n",
    "%load_ext dotenv\n",
    "%dotenv\n",
    "\n",
    "azure_oai_endpoint = os.getenv(\"AZURE_OPENAI_ENDPOINT\")\n",
    "azure_model_deployment = os.getenv(\"AZURE_MODEL_DEPLOYMENT\")\n",
    "azure_oai_key = os.getenv(\"AZURE_OPENAI_API_KEY\")\n",
    "api_version = os.getenv(\"OPENAI_API_VERSION\")\n",
    "\n",
    "# Construct the base URL.  \n",
    "if azure_oai_endpoint:\n",
    "    if not azure_oai_endpoint.endswith('/'):\n",
    "        azure_oai_endpoint += '/'\n",
    "    base_url = azure_oai_endpoint + \"openai/v1/\"\n",
    "\n",
    "# To use API key, set this to False.  \n",
    "use_entra_id = True"
   ]
  },
  {
   "cell_type": "code",
   "execution_count": null,
   "id": "5bab9696-ef28-4468-a2b7-bfd1f29cac50",
   "metadata": {},
   "outputs": [],
   "source": [
    "os.system(\"az login\")"
   ]
  },
  {
   "cell_type": "code",
   "execution_count": null,
   "id": "942ad1a7-89ce-4f83-a91e-f15a0c9bfaa5",
   "metadata": {},
   "outputs": [],
   "source": []
  }
 ],
 "metadata": {
  "kernelspec": {
   "display_name": "Python 3 (ipykernel)",
   "language": "python",
   "name": "python3"
  },
  "language_info": {
   "codemirror_mode": {
    "name": "ipython",
    "version": 3
   },
   "file_extension": ".py",
   "mimetype": "text/x-python",
   "name": "python",
   "nbconvert_exporter": "python",
   "pygments_lexer": "ipython3",
   "version": "3.13.7"
  }
 },
 "nbformat": 4,
 "nbformat_minor": 5
}
